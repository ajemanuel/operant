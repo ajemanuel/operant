{
 "cells": [
  {
   "cell_type": "code",
   "execution_count": 4,
   "id": "united-apparatus",
   "metadata": {},
   "outputs": [],
   "source": [
    "import compress_pickle as pickle\n",
    "import numpy as np\n",
    "import matplotlib.pyplot as plt\n",
    "%matplotlib inline"
   ]
  },
  {
   "cell_type": "code",
   "execution_count": 20,
   "id": "roman-seating",
   "metadata": {},
   "outputs": [],
   "source": [
    "beh = pickle.load(r'C:\\Data\\Behavior\\20210115_201639_test.gz')"
   ]
  },
  {
   "cell_type": "code",
   "execution_count": 21,
   "id": "binary-sauce",
   "metadata": {},
   "outputs": [
    {
     "data": {
      "text/plain": [
       "[<matplotlib.lines.Line2D at 0x562e220>,\n",
       " <matplotlib.lines.Line2D at 0x562e2e0>]"
      ]
     },
     "execution_count": 21,
     "metadata": {},
     "output_type": "execute_result"
    },
    {
     "data": {
      "image/png": "[encoded data removed]",
      "text/plain": [
       "<Figure size 432x288 with 1 Axes>"
      ]
     },
     "metadata": {
      "needs_background": "light"
     },
     "output_type": "display_data"
    }
   ],
   "source": [
    "plt.plot(np.transpose(beh['ai_data'][0]))"
   ]
  },
  {
   "cell_type": "code",
   "execution_count": 23,
   "id": "quiet-columbia",
   "metadata": {},
   "outputs": [
    {
     "data": {
      "text/plain": [
       "[<matplotlib.lines.Line2D at 0x56dfb80>]"
      ]
     },
     "execution_count": 23,
     "metadata": {},
     "output_type": "execute_result"
    },
    {
     "data": {
      "image/png": "[encoded data removed]",
      "text/plain": [
       "<Figure size 432x288 with 1 Axes>"
      ]
     },
     "metadata": {
      "needs_background": "light"
     },
     "output_type": "display_data"
    }
   ],
   "source": [
    "plt.plot(beh['di_data'][1])"
   ]
  },
  {
   "cell_type": "code",
   "execution_count": null,
   "id": "together-stations",
   "metadata": {},
   "outputs": [],
   "source": []
  }
 ],
 "metadata": {
  "kernelspec": {
   "display_name": "Python 3",
   "language": "python",
   "name": "python3"
  },
  "language_info": {
   "codemirror_mode": {
    "name": "ipython",
    "version": 3
   },
   "file_extension": ".py",
   "mimetype": "text/x-python",
   "name": "python",
   "nbconvert_exporter": "python",
   "pygments_lexer": "ipython3",
   "version": "3.8.5"
  }
 },
 "nbformat": 4,
 "nbformat_minor": 5
}
